{
 "cells": [
  {
   "cell_type": "code",
   "execution_count": 25,
   "id": "fa921d0d",
   "metadata": {},
   "outputs": [],
   "source": [
    "import pandas as pd\n",
    "\n",
    "details_agence = pd.read_csv('./details_agence.csv')\n",
    "details_materiel = pd.read_csv('./details_materiel.csv')\n",
    "exploration_groupe = pd.read_csv('./exploration_groupe.csv')\n",
    "\n",
    "#details_agence\n",
    "#details_materiel\n",
    "#exploration_groupe"
   ]
  },
  {
   "cell_type": "code",
   "execution_count": null,
   "id": "0c060456",
   "metadata": {},
   "outputs": [],
   "source": []
  }
 ],
 "metadata": {
  "kernelspec": {
   "display_name": "Python 3 (ipykernel)",
   "language": "python",
   "name": "python3"
  },
  "language_info": {
   "codemirror_mode": {
    "name": "ipython",
    "version": 3
   },
   "file_extension": ".py",
   "mimetype": "text/x-python",
   "name": "python",
   "nbconvert_exporter": "python",
   "pygments_lexer": "ipython3",
   "version": "3.10.9"
  }
 },
 "nbformat": 4,
 "nbformat_minor": 5
}
