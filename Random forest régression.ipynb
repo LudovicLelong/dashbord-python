{
 "cells": [
  {
   "cell_type": "code",
   "execution_count": 35,
   "id": "50a77af4",
   "metadata": {},
   "outputs": [
    {
     "name": "stdout",
     "output_type": "stream",
     "text": [
      "Toutes nos régions : [ 1 51 53 67 54]\n",
      "Notre agence étudiée/montrée : 51, car on c'est que c'est une agence ou il fait froid\n",
      "Liste des agences de la région 51 :  [210 211 212 214 215 217 220 221 223 224 225 226 227 228 290 291 292 293\n",
      " 294 295 296]\n",
      "Somme des CA de la région 1 : 15287.0 €\n",
      "Somme des CA de la région 51 : 3054888.0 €\n",
      "Somme des CA de la région 53 : 2999714.0 €\n",
      "Somme des CA de la région 67 : 1311441.0 €\n",
      "Somme des CA de la région 54 : 272855.0 €\n",
      "CA de toutes les nacelles de l'agence 51 : 855734.0 €\n",
      "CA de tous les chariots télescopiques  de l'agence 51 : 1119339.0 €\n",
      "CA pour de toutes les minipèles de l'agence 51 : 1079815.0 €\n"
     ]
    }
   ],
   "source": [
    "\n",
    "\n",
    "#groupes = array['Annee_RefT'].unique()\n",
    "#print(groupes)\n",
    "\n",
    "\n",
    "#array.sample(100)\n",
    "\n",
    "\n",
    "\n",
    "import pandas as pd\n",
    "\n",
    "# Chargement des données\n",
    "data = pd.read_csv(\"./details_agence_taux_de_rotation_version3.csv\")\n",
    "\n",
    "# Convertir la colonne 'CA' en type numérique\n",
    "data['CA'] = pd.to_numeric(data['CA'], errors='coerce')\n",
    "\n",
    "# Afficher les régions uniques\n",
    "regions = data['Region_Facturation'].unique()\n",
    "print(\"Toutes nos régions :\", regions)\n",
    "print(\"Notre agence étudiée/montrée : 51, car on c'est que c'est une agence ou il fait froid\")\n",
    "\n",
    "# Afficher toutes les agences de la région 51\n",
    "agences_region_51 = data[data['Region_Facturation'] == 51]['Agence_Facturation'].unique()\n",
    "print(\"Liste des agences de la région 51 : \", agences_region_51)\n",
    "\n",
    "# Le CA global et de chaque agence\n",
    "ca_agences_region_1 = data[data['Region_Facturation'] == 1].groupby('Agence_Facturation')['CA'].sum()\n",
    "ca_agences_region_51 = data[data['Region_Facturation'] == 51].groupby('Agence_Facturation')['CA'].sum()\n",
    "ca_agences_region_53 = data[data['Region_Facturation'] == 53].groupby('Agence_Facturation')['CA'].sum()\n",
    "ca_agences_region_67 = data[data['Region_Facturation'] == 67].groupby('Agence_Facturation')['CA'].sum()\n",
    "ca_agences_region_54 = data[data['Region_Facturation'] == 54].groupby('Agence_Facturation')['CA'].sum()\n",
    "\n",
    "\n",
    "# Somme des CA de toutes les agences dans la région 53\n",
    "somme_ca_region_1 = ca_agences_region_1.sum()\n",
    "somme_ca_region_51 = ca_agences_region_51.sum()\n",
    "somme_ca_region_53 = ca_agences_region_53.sum()\n",
    "somme_ca_region_67 = ca_agences_region_67.sum()\n",
    "somme_ca_region_54 = ca_agences_region_54.sum()\n",
    "print(\"Somme des CA de la région 1 :\", somme_ca_region_1, \"€\")\n",
    "print(\"Somme des CA de la région 51 :\", somme_ca_region_51, \"€\")\n",
    "print(\"Somme des CA de la région 53 :\", somme_ca_region_53, \"€\")\n",
    "print(\"Somme des CA de la région 67 :\", somme_ca_region_67, \"€\")\n",
    "print(\"Somme des CA de la région 54 :\", somme_ca_region_54, \"€\")\n",
    "\n",
    "\n",
    "\n",
    "# Somme du CA pour l'agence 51 pour les valeurs numériques 1, 2 et 3 de la colonne \"Cat_Classe_Designation_Num\" du total de 1, total 2, et total 3\n",
    "ca_agence_51_cat1 = data[(data['Region_Facturation'] == 51) & (data['Cat_Classe_Designation_Num'] == 1)]['CA'].sum()\n",
    "ca_agence_51_cat2 = data[(data['Region_Facturation'] == 51) & (data['Cat_Classe_Designation_Num'] == 2)]['CA'].sum()\n",
    "ca_agence_51_cat3 = data[(data['Region_Facturation'] == 51) & (data['Cat_Classe_Designation_Num'] == 3)]['CA'].sum()\n",
    "\n",
    "print(\"CA de toutes les nacelles de l'agence 51 :\", ca_agence_51_cat1, \"€\")\n",
    "print(\"CA de tous les chariots télescopiques  de l'agence 51 :\", ca_agence_51_cat2, \"€\")\n",
    "print(\"CA pour de toutes les minipèles de l'agence 51 :\", ca_agence_51_cat3, \"€\")\n",
    "\n",
    "\n"
   ]
  },
  {
   "cell_type": "code",
   "execution_count": null,
   "id": "d89ef44a",
   "metadata": {},
   "outputs": [],
   "source": []
  },
  {
   "cell_type": "code",
   "execution_count": null,
   "id": "59303fb4",
   "metadata": {},
   "outputs": [],
   "source": []
  },
  {
   "cell_type": "code",
   "execution_count": null,
   "id": "052c04ab",
   "metadata": {},
   "outputs": [],
   "source": []
  },
  {
   "cell_type": "code",
   "execution_count": null,
   "id": "aceee8bb",
   "metadata": {},
   "outputs": [],
   "source": []
  },
  {
   "cell_type": "code",
   "execution_count": null,
   "id": "a082f955",
   "metadata": {},
   "outputs": [],
   "source": []
  },
  {
   "cell_type": "code",
   "execution_count": null,
   "id": "9c874f09",
   "metadata": {},
   "outputs": [],
   "source": []
  },
  {
   "cell_type": "code",
   "execution_count": null,
   "id": "0319522b",
   "metadata": {},
   "outputs": [],
   "source": []
  },
  {
   "cell_type": "code",
   "execution_count": null,
   "id": "00f5d3ac",
   "metadata": {},
   "outputs": [],
   "source": []
  },
  {
   "cell_type": "code",
   "execution_count": null,
   "id": "626d97ec",
   "metadata": {},
   "outputs": [],
   "source": []
  },
  {
   "cell_type": "code",
   "execution_count": 19,
   "id": "acb688c3",
   "metadata": {},
   "outputs": [
    {
     "ename": "TypeError",
     "evalue": "BaseForest.fit() missing 1 required positional argument: 'y'",
     "output_type": "error",
     "traceback": [
      "\u001b[0;31m---------------------------------------------------------------------------\u001b[0m",
      "\u001b[0;31mTypeError\u001b[0m                                 Traceback (most recent call last)",
      "Cell \u001b[0;32mIn[19], line 14\u001b[0m\n\u001b[1;32m     11\u001b[0m model \u001b[38;5;241m=\u001b[39m RandomForestRegressor(n_estimators\u001b[38;5;241m=\u001b[39m\u001b[38;5;241m100\u001b[39m, random_state\u001b[38;5;241m=\u001b[39m\u001b[38;5;241m42\u001b[39m)\n\u001b[1;32m     13\u001b[0m \u001b[38;5;66;03m# Entraîner le modèle sur les données d'entraînement\u001b[39;00m\n\u001b[0;32m---> 14\u001b[0m \u001b[43mmodel\u001b[49m\u001b[38;5;241;43m.\u001b[39;49m\u001b[43mfit\u001b[49m\u001b[43m(\u001b[49m\u001b[43mX_train\u001b[49m\u001b[43m)\u001b[49m\n\u001b[1;32m     16\u001b[0m \u001b[38;5;66;03m# Afficher les régions uniques\u001b[39;00m\n\u001b[1;32m     17\u001b[0m regions \u001b[38;5;241m=\u001b[39m X[\u001b[38;5;124m'\u001b[39m\u001b[38;5;124mRegion_Facturation\u001b[39m\u001b[38;5;124m'\u001b[39m]\u001b[38;5;241m.\u001b[39munique()\n",
      "\u001b[0;31mTypeError\u001b[0m: BaseForest.fit() missing 1 required positional argument: 'y'"
     ]
    }
   ],
   "source": [
    "from sklearn.ensemble import RandomForestRegressor\n",
    "from sklearn.model_selection import train_test_split\n",
    "\n",
    "# Chargement des données\n",
    "X = pd.read_csv(\"./details_agence_taux_de_rotation_version3.csv\")\n",
    "\n",
    "# Sélection des variables prédictives\n",
    "X_train = X.drop(\"Region_Facturation\", axis=1)\n",
    "\n",
    "# Créer l'estimateur Random Forest de régression\n",
    "model = RandomForestRegressor(n_estimators=100, random_state=42)\n",
    "\n",
    "# Entraîner le modèle sur les données d'entraînement\n",
    "model.fit(X_train)\n",
    "\n",
    "# Afficher les régions uniques\n",
    "regions = X['Region_Facturation'].unique()\n",
    "print(regions)\n",
    "\n",
    "\n",
    "\n",
    "# Entraîner le modèle sur les données d'entraînement\n",
    "####model.fit(X_train, y_train)\n",
    "\n",
    "#Faire des prédictions sur les données de test\n",
    "####predictions = model.predict(X_test)\n",
    "\n",
    "####Évaluer les performances du modèle\n",
    "####mse = mean_squared_error(y_test, predictions)\n",
    "####print(\"Mean Squared Error:\", mse)"
   ]
  },
  {
   "cell_type": "code",
   "execution_count": null,
   "id": "19944847",
   "metadata": {},
   "outputs": [],
   "source": []
  }
 ],
 "metadata": {
  "kernelspec": {
   "display_name": "Python 3 (ipykernel)",
   "language": "python",
   "name": "python3"
  },
  "language_info": {
   "codemirror_mode": {
    "name": "ipython",
    "version": 3
   },
   "file_extension": ".py",
   "mimetype": "text/x-python",
   "name": "python",
   "nbconvert_exporter": "python",
   "pygments_lexer": "ipython3",
   "version": "3.10.11"
  }
 },
 "nbformat": 4,
 "nbformat_minor": 5
}
